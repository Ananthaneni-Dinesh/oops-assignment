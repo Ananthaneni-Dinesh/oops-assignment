{
 "cells": [
  {
   "cell_type": "markdown",
   "id": "18490290",
   "metadata": {},
   "source": [
    "# Challenge 1: Square Numbers and Return Their Sum"
   ]
  },
  {
   "cell_type": "code",
   "execution_count": 7,
   "id": "028f77e7",
   "metadata": {},
   "outputs": [
    {
     "data": {
      "text/plain": [
       "35"
      ]
     },
     "execution_count": 7,
     "metadata": {},
     "output_type": "execute_result"
    }
   ],
   "source": [
    "class Point:\n",
    "\n",
    "    def __init__(self,x,y,z):\n",
    "        self.x=x\n",
    "        self.y=y\n",
    "        self.z=z\n",
    "\n",
    "    def sqSum(self):\n",
    "        return self.x**2+self.y**2+self.z**2\n",
    "        \n",
    "a = Point(1,3,5)\n",
    "a.sqSum()"
   ]
  },
  {
   "cell_type": "markdown",
   "id": "f336b0b0",
   "metadata": {},
   "source": [
    "# Challenge 2: Implement a Calculator Class"
   ]
  },
  {
   "cell_type": "code",
   "execution_count": 18,
   "id": "5bcbd527",
   "metadata": {},
   "outputs": [
    {
     "name": "stdout",
     "output_type": "stream",
     "text": [
      "104\n",
      "-84\n",
      "940\n",
      "10\n"
     ]
    }
   ],
   "source": [
    "class Calculator:\n",
    "\n",
    "    def __init__(self,x,y):\n",
    "        self.x=x\n",
    "        self.y=y\n",
    "    def add(self):\n",
    "        return self.x+self.y\n",
    "    \n",
    "    def subtract(self):\n",
    "        return self.x-self.y\n",
    "    \n",
    "    def multiply(self):\n",
    "        return self.x*self.y\n",
    "    \n",
    "    def divide(self):\n",
    "        return self.x%self.y\n",
    "\n",
    "obj=Calculator(10,94)\n",
    "print(obj.add())\n",
    "print(obj.subtract())\n",
    "print(obj.multiply())\n",
    "print(obj.divide())"
   ]
  },
  {
   "cell_type": "markdown",
   "id": "ae4fe561",
   "metadata": {},
   "source": [
    "# Challenge 3: Implement the Complete Student Class "
   ]
  },
  {
   "cell_type": "code",
   "execution_count": 88,
   "id": "490378cf",
   "metadata": {},
   "outputs": [
    {
     "name": "stdout",
     "output_type": "stream",
     "text": [
      "Dinesh\n",
      "443\n"
     ]
    }
   ],
   "source": [
    "class Student:\n",
    " \n",
    "    \n",
    "    def __init__(self,Name=0,Roll=0):\n",
    "        self._Name=Name\n",
    "        self._Roll=Roll\n",
    "    def get_Name(self):\n",
    "        return self._Name\n",
    "    def get_roll(self):\n",
    "        return self._Roll\n",
    "    def set_Name(self, x=0):\n",
    "        self._Name = x\n",
    "    def set_Roll(self, y=0):\n",
    "        self._Roll = y\n",
    "        \n",
    "    \n",
    "        \n",
    "B = Student()\n",
    "B.set_Name(\"Dinesh\")\n",
    "print(B._Name)\n",
    "B.set_Roll(443)\n",
    "print(B._Roll)"
   ]
  },
  {
   "cell_type": "markdown",
   "id": "697be145",
   "metadata": {},
   "source": [
    "# Challenge 4: Implement a Banking Account"
   ]
  },
  {
   "cell_type": "code",
   "execution_count": 94,
   "id": "2d43f229",
   "metadata": {},
   "outputs": [
    {
     "name": "stdout",
     "output_type": "stream",
     "text": [
      "Ashish\n",
      "5000\n",
      "5\n"
     ]
    }
   ],
   "source": [
    "class Account:\n",
    "\n",
    "    def __init__(self,title=0,balance=0):\n",
    "        self._title=title\n",
    "        self._balance=balance\n",
    "    def get_title(self):\n",
    "        return self._title\n",
    "    def get_accountbalance(self):\n",
    "        return self._accountbaalance\n",
    "    def set_title(self, x=0):\n",
    "        self._title = x\n",
    "    def set_accountbalance(self, y=0):\n",
    "        self._accountbalance = y\n",
    "        \n",
    "        \n",
    "    \n",
    "\n",
    "class SavingsAccount(Account):\n",
    "\n",
    "    def __init__(self,intrestrate=0):\n",
    "        self._intrestrate=intrestrate\n",
    "    def get_intrestrate(self):\n",
    "        return self._inytrestrate\n",
    "    def set_intrestrate(self, z=0):\n",
    "        self._intrestrate = z\n",
    "        \n",
    "A = Account()\n",
    "B=SavingsAccount()\n",
    "A.set_title(\"Ashish\")\n",
    "print(A._title)\n",
    "A.set_accountbalance(5000)\n",
    "print(A._accountbalance)\n",
    "B.set_intrestrate(5)\n",
    "print(B._intrestrate)"
   ]
  }
 ],
 "metadata": {
  "kernelspec": {
   "display_name": "Python 3 (ipykernel)",
   "language": "python",
   "name": "python3"
  },
  "language_info": {
   "codemirror_mode": {
    "name": "ipython",
    "version": 3
   },
   "file_extension": ".py",
   "mimetype": "text/x-python",
   "name": "python",
   "nbconvert_exporter": "python",
   "pygments_lexer": "ipython3",
   "version": "3.9.13"
  }
 },
 "nbformat": 4,
 "nbformat_minor": 5
}
